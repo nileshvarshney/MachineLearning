{
 "cells": [
  {
   "cell_type": "markdown",
   "metadata": {},
   "source": [
    "## Sallow Neutal Net"
   ]
  },
  {
   "cell_type": "code",
   "execution_count": 1,
   "metadata": {},
   "outputs": [],
   "source": [
    "import numpy as np;\n",
    "np.random.seed(42)"
   ]
  },
  {
   "cell_type": "code",
   "execution_count": 3,
   "metadata": {},
   "outputs": [],
   "source": [
    "import keras\n",
    "from keras.datasets import mnist\n",
    "from keras.models import Sequential\n",
    "from keras.layers import Dense\n",
    "from keras.optimizers import SGD"
   ]
  },
  {
   "cell_type": "markdown",
   "metadata": {},
   "source": [
    "## Load data"
   ]
  },
  {
   "cell_type": "code",
   "execution_count": 4,
   "metadata": {},
   "outputs": [],
   "source": [
    "(X_train, y_train),(X_test,y_test) = mnist.load_data()"
   ]
  },
  {
   "cell_type": "code",
   "execution_count": 5,
   "metadata": {},
   "outputs": [
    {
     "data": {
      "text/plain": [
       "(60000, 28, 28)"
      ]
     },
     "execution_count": 5,
     "metadata": {},
     "output_type": "execute_result"
    }
   ],
   "source": [
    "X_train.shape"
   ]
  },
  {
   "cell_type": "code",
   "execution_count": 6,
   "metadata": {},
   "outputs": [
    {
     "data": {
      "text/plain": [
       "(10000, 28, 28)"
      ]
     },
     "execution_count": 6,
     "metadata": {},
     "output_type": "execute_result"
    }
   ],
   "source": [
    "X_test.shape"
   ]
  },
  {
   "cell_type": "markdown",
   "metadata": {},
   "source": [
    "## PreProcess data"
   ]
  },
  {
   "cell_type": "code",
   "execution_count": 7,
   "metadata": {},
   "outputs": [],
   "source": [
    "X_train = X_train.reshape(60000,784)"
   ]
  },
  {
   "cell_type": "code",
   "execution_count": 8,
   "metadata": {},
   "outputs": [],
   "source": [
    "X_test = X_test.reshape(10000,784)"
   ]
  },
  {
   "cell_type": "code",
   "execution_count": 9,
   "metadata": {},
   "outputs": [
    {
     "data": {
      "text/plain": [
       "(60000, 784)"
      ]
     },
     "execution_count": 9,
     "metadata": {},
     "output_type": "execute_result"
    }
   ],
   "source": [
    "X_train.shape"
   ]
  },
  {
   "cell_type": "code",
   "execution_count": 10,
   "metadata": {},
   "outputs": [
    {
     "data": {
      "text/plain": [
       "(10000, 784)"
      ]
     },
     "execution_count": 10,
     "metadata": {},
     "output_type": "execute_result"
    }
   ],
   "source": [
    "X_test.shape"
   ]
  },
  {
   "cell_type": "code",
   "execution_count": 11,
   "metadata": {},
   "outputs": [],
   "source": [
    "X_train = X_train/255"
   ]
  },
  {
   "cell_type": "code",
   "execution_count": 12,
   "metadata": {},
   "outputs": [],
   "source": [
    "X_test = X_test/255"
   ]
  },
  {
   "cell_type": "code",
   "execution_count": 13,
   "metadata": {},
   "outputs": [],
   "source": [
    "n_categories = 10\n",
    "y_train = keras.utils.to_categorical(y_train, n_categories)\n",
    "y_test = keras.utils.to_categorical(y_test, n_categories)"
   ]
  },
  {
   "cell_type": "code",
   "execution_count": 14,
   "metadata": {},
   "outputs": [
    {
     "data": {
      "text/plain": [
       "array([0., 0., 0., 0., 0., 1., 0., 0., 0., 0.], dtype=float32)"
      ]
     },
     "execution_count": 14,
     "metadata": {},
     "output_type": "execute_result"
    }
   ],
   "source": [
    "y_train[0]"
   ]
  },
  {
   "cell_type": "markdown",
   "metadata": {},
   "source": [
    "**Design Model**"
   ]
  },
  {
   "cell_type": "code",
   "execution_count": 15,
   "metadata": {},
   "outputs": [],
   "source": [
    "model = Sequential()\n",
    "model.add(Dense((64),activation='tanh', input_shape = (784,)))\n",
    "model.add(Dense(units=10,activation='softmax'))"
   ]
  },
  {
   "cell_type": "code",
   "execution_count": 16,
   "metadata": {},
   "outputs": [
    {
     "name": "stdout",
     "output_type": "stream",
     "text": [
      "_________________________________________________________________\n",
      "Layer (type)                 Output Shape              Param #   \n",
      "=================================================================\n",
      "dense_1 (Dense)              (None, 64)                50240     \n",
      "_________________________________________________________________\n",
      "dense_2 (Dense)              (None, 10)                650       \n",
      "=================================================================\n",
      "Total params: 50,890\n",
      "Trainable params: 50,890\n",
      "Non-trainable params: 0\n",
      "_________________________________________________________________\n"
     ]
    }
   ],
   "source": [
    "model.summary()"
   ]
  },
  {
   "cell_type": "markdown",
   "metadata": {},
   "source": [
    "**Configure Model**"
   ]
  },
  {
   "cell_type": "code",
   "execution_count": 17,
   "metadata": {},
   "outputs": [],
   "source": [
    "model.compile(optimizer=SGD(lr=0.05),loss='categorical_crossentropy',metrics = ['accuracy'])"
   ]
  },
  {
   "cell_type": "markdown",
   "metadata": {},
   "source": [
    "**Train Model**"
   ]
  },
  {
   "cell_type": "code",
   "execution_count": 18,
   "metadata": {},
   "outputs": [
    {
     "name": "stdout",
     "output_type": "stream",
     "text": [
      "Train on 60000 samples, validate on 10000 samples\n",
      "Epoch 1/100\n",
      "60000/60000 [==============================] - 1s 18us/step - loss: 0.6088 - acc: 0.8441 - val_loss: 0.3642 - val_acc: 0.9016\n",
      "Epoch 2/100\n",
      "60000/60000 [==============================] - 1s 13us/step - loss: 0.3421 - acc: 0.9050 - val_loss: 0.3026 - val_acc: 0.9153\n",
      "Epoch 3/100\n",
      "60000/60000 [==============================] - 1s 14us/step - loss: 0.2959 - acc: 0.9161 - val_loss: 0.2698 - val_acc: 0.9230\n",
      "Epoch 4/100\n",
      "60000/60000 [==============================] - 1s 14us/step - loss: 0.2683 - acc: 0.9242 - val_loss: 0.2485 - val_acc: 0.9293\n",
      "Epoch 5/100\n",
      "60000/60000 [==============================] - 1s 13us/step - loss: 0.2469 - acc: 0.9302 - val_loss: 0.2308 - val_acc: 0.9347\n",
      "Epoch 6/100\n",
      "60000/60000 [==============================] - 1s 14us/step - loss: 0.2298 - acc: 0.9351 - val_loss: 0.2159 - val_acc: 0.9382\n",
      "Epoch 7/100\n",
      "60000/60000 [==============================] - 1s 14us/step - loss: 0.2149 - acc: 0.9395 - val_loss: 0.2049 - val_acc: 0.9401\n",
      "Epoch 8/100\n",
      "60000/60000 [==============================] - 1s 15us/step - loss: 0.2024 - acc: 0.9431 - val_loss: 0.1936 - val_acc: 0.9448\n",
      "Epoch 9/100\n",
      "60000/60000 [==============================] - 1s 13us/step - loss: 0.1912 - acc: 0.9462 - val_loss: 0.1852 - val_acc: 0.9476\n",
      "Epoch 10/100\n",
      "60000/60000 [==============================] - 1s 13us/step - loss: 0.1812 - acc: 0.9493 - val_loss: 0.1765 - val_acc: 0.9500\n",
      "Epoch 11/100\n",
      "60000/60000 [==============================] - 1s 14us/step - loss: 0.1726 - acc: 0.9515 - val_loss: 0.1693 - val_acc: 0.9522\n",
      "Epoch 12/100\n",
      "60000/60000 [==============================] - 1s 15us/step - loss: 0.1646 - acc: 0.9544 - val_loss: 0.1644 - val_acc: 0.9524\n",
      "Epoch 13/100\n",
      "60000/60000 [==============================] - 1s 14us/step - loss: 0.1576 - acc: 0.9565 - val_loss: 0.1575 - val_acc: 0.9544\n",
      "Epoch 14/100\n",
      "60000/60000 [==============================] - 1s 12us/step - loss: 0.1509 - acc: 0.9581 - val_loss: 0.1539 - val_acc: 0.9547\n",
      "Epoch 15/100\n",
      "60000/60000 [==============================] - 1s 13us/step - loss: 0.1451 - acc: 0.9597 - val_loss: 0.1473 - val_acc: 0.9579\n",
      "Epoch 16/100\n",
      "60000/60000 [==============================] - 1s 13us/step - loss: 0.1399 - acc: 0.9609 - val_loss: 0.1433 - val_acc: 0.9583\n",
      "Epoch 17/100\n",
      "60000/60000 [==============================] - 1s 13us/step - loss: 0.1348 - acc: 0.9625 - val_loss: 0.1391 - val_acc: 0.9593\n",
      "Epoch 18/100\n",
      "60000/60000 [==============================] - 1s 14us/step - loss: 0.1302 - acc: 0.9636 - val_loss: 0.1359 - val_acc: 0.9604\n",
      "Epoch 19/100\n",
      "60000/60000 [==============================] - 1s 13us/step - loss: 0.1260 - acc: 0.9646 - val_loss: 0.1328 - val_acc: 0.9603\n",
      "Epoch 20/100\n",
      "60000/60000 [==============================] - 1s 13us/step - loss: 0.1220 - acc: 0.9660 - val_loss: 0.1292 - val_acc: 0.9621\n",
      "Epoch 21/100\n",
      "60000/60000 [==============================] - 1s 14us/step - loss: 0.1182 - acc: 0.9669 - val_loss: 0.1265 - val_acc: 0.9619\n",
      "Epoch 22/100\n",
      "60000/60000 [==============================] - 1s 14us/step - loss: 0.1148 - acc: 0.9681 - val_loss: 0.1248 - val_acc: 0.9627\n",
      "Epoch 23/100\n",
      "60000/60000 [==============================] - 1s 13us/step - loss: 0.1116 - acc: 0.9690 - val_loss: 0.1219 - val_acc: 0.9634\n",
      "Epoch 24/100\n",
      "60000/60000 [==============================] - 1s 14us/step - loss: 0.1084 - acc: 0.9701 - val_loss: 0.1198 - val_acc: 0.9644\n",
      "Epoch 25/100\n",
      "60000/60000 [==============================] - 1s 15us/step - loss: 0.1054 - acc: 0.9711 - val_loss: 0.1177 - val_acc: 0.9648\n",
      "Epoch 26/100\n",
      "60000/60000 [==============================] - 1s 15us/step - loss: 0.1028 - acc: 0.9716 - val_loss: 0.1151 - val_acc: 0.9648\n",
      "Epoch 27/100\n",
      "60000/60000 [==============================] - 1s 13us/step - loss: 0.1002 - acc: 0.9724 - val_loss: 0.1140 - val_acc: 0.9666\n",
      "Epoch 28/100\n",
      "60000/60000 [==============================] - 1s 13us/step - loss: 0.0977 - acc: 0.9732 - val_loss: 0.1126 - val_acc: 0.9657\n",
      "Epoch 29/100\n",
      "60000/60000 [==============================] - 1s 13us/step - loss: 0.0952 - acc: 0.9740 - val_loss: 0.1108 - val_acc: 0.9664\n",
      "Epoch 30/100\n",
      "60000/60000 [==============================] - 1s 14us/step - loss: 0.0930 - acc: 0.9747 - val_loss: 0.1094 - val_acc: 0.9660\n",
      "Epoch 31/100\n",
      "60000/60000 [==============================] - 1s 14us/step - loss: 0.0908 - acc: 0.9751 - val_loss: 0.1077 - val_acc: 0.9668\n",
      "Epoch 32/100\n",
      "60000/60000 [==============================] - 1s 13us/step - loss: 0.0888 - acc: 0.9757 - val_loss: 0.1065 - val_acc: 0.9675\n",
      "Epoch 33/100\n",
      "60000/60000 [==============================] - 1s 14us/step - loss: 0.0868 - acc: 0.9763 - val_loss: 0.1051 - val_acc: 0.9675\n",
      "Epoch 34/100\n",
      "60000/60000 [==============================] - 1s 13us/step - loss: 0.0849 - acc: 0.9772 - val_loss: 0.1042 - val_acc: 0.9668\n",
      "Epoch 35/100\n",
      "60000/60000 [==============================] - 1s 13us/step - loss: 0.0829 - acc: 0.9779 - val_loss: 0.1033 - val_acc: 0.9684\n",
      "Epoch 36/100\n",
      "60000/60000 [==============================] - 1s 14us/step - loss: 0.0812 - acc: 0.9783 - val_loss: 0.1024 - val_acc: 0.9688\n",
      "Epoch 37/100\n",
      "60000/60000 [==============================] - 1s 13us/step - loss: 0.0796 - acc: 0.9787 - val_loss: 0.1009 - val_acc: 0.9692\n",
      "Epoch 38/100\n",
      "60000/60000 [==============================] - 1s 14us/step - loss: 0.0779 - acc: 0.9790 - val_loss: 0.0990 - val_acc: 0.9692\n",
      "Epoch 39/100\n",
      "60000/60000 [==============================] - 1s 14us/step - loss: 0.0763 - acc: 0.9797 - val_loss: 0.0983 - val_acc: 0.9697\n",
      "Epoch 40/100\n",
      "60000/60000 [==============================] - 1s 13us/step - loss: 0.0748 - acc: 0.9800 - val_loss: 0.0978 - val_acc: 0.9695\n",
      "Epoch 41/100\n",
      "60000/60000 [==============================] - 1s 16us/step - loss: 0.0734 - acc: 0.9801 - val_loss: 0.0975 - val_acc: 0.9700\n",
      "Epoch 42/100\n",
      "60000/60000 [==============================] - 1s 17us/step - loss: 0.0718 - acc: 0.9808 - val_loss: 0.0965 - val_acc: 0.9696\n",
      "Epoch 43/100\n",
      "60000/60000 [==============================] - 1s 16us/step - loss: 0.0705 - acc: 0.9810 - val_loss: 0.0957 - val_acc: 0.9703\n",
      "Epoch 44/100\n",
      "60000/60000 [==============================] - 1s 16us/step - loss: 0.0693 - acc: 0.9818 - val_loss: 0.0949 - val_acc: 0.9706\n",
      "Epoch 45/100\n",
      "60000/60000 [==============================] - 1s 13us/step - loss: 0.0678 - acc: 0.9820 - val_loss: 0.0939 - val_acc: 0.9707\n",
      "Epoch 46/100\n",
      "60000/60000 [==============================] - 1s 12us/step - loss: 0.0667 - acc: 0.9823 - val_loss: 0.0937 - val_acc: 0.9710\n",
      "Epoch 47/100\n",
      "60000/60000 [==============================] - 1s 15us/step - loss: 0.0655 - acc: 0.9828 - val_loss: 0.0925 - val_acc: 0.9713\n",
      "Epoch 48/100\n",
      "60000/60000 [==============================] - 1s 13us/step - loss: 0.0642 - acc: 0.9831 - val_loss: 0.0917 - val_acc: 0.9710\n",
      "Epoch 49/100\n",
      "60000/60000 [==============================] - 1s 13us/step - loss: 0.0631 - acc: 0.9835 - val_loss: 0.0923 - val_acc: 0.9710\n",
      "Epoch 50/100\n",
      "60000/60000 [==============================] - 1s 14us/step - loss: 0.0620 - acc: 0.9840 - val_loss: 0.0911 - val_acc: 0.9719\n",
      "Epoch 51/100\n",
      "60000/60000 [==============================] - 1s 15us/step - loss: 0.0610 - acc: 0.9840 - val_loss: 0.0913 - val_acc: 0.9727\n",
      "Epoch 52/100\n",
      "60000/60000 [==============================] - 1s 15us/step - loss: 0.0599 - acc: 0.9843 - val_loss: 0.0905 - val_acc: 0.9720\n",
      "Epoch 53/100\n",
      "60000/60000 [==============================] - 1s 15us/step - loss: 0.0589 - acc: 0.9846 - val_loss: 0.0899 - val_acc: 0.9726\n",
      "Epoch 54/100\n",
      "60000/60000 [==============================] - 1s 15us/step - loss: 0.0579 - acc: 0.9849 - val_loss: 0.0890 - val_acc: 0.9727\n",
      "Epoch 55/100\n",
      "60000/60000 [==============================] - 1s 16us/step - loss: 0.0570 - acc: 0.9853 - val_loss: 0.0883 - val_acc: 0.9720\n",
      "Epoch 56/100\n",
      "60000/60000 [==============================] - 1s 16us/step - loss: 0.0559 - acc: 0.9857 - val_loss: 0.0882 - val_acc: 0.9724\n",
      "Epoch 57/100\n",
      "60000/60000 [==============================] - 1s 13us/step - loss: 0.0551 - acc: 0.9859 - val_loss: 0.0877 - val_acc: 0.9730\n",
      "Epoch 58/100\n",
      "60000/60000 [==============================] - 1s 13us/step - loss: 0.0541 - acc: 0.9864 - val_loss: 0.0875 - val_acc: 0.9737\n",
      "Epoch 59/100\n"
     ]
    },
    {
     "name": "stdout",
     "output_type": "stream",
     "text": [
      "60000/60000 [==============================] - 1s 12us/step - loss: 0.0533 - acc: 0.9868 - val_loss: 0.0863 - val_acc: 0.9730\n",
      "Epoch 60/100\n",
      "60000/60000 [==============================] - 1s 12us/step - loss: 0.0525 - acc: 0.9868 - val_loss: 0.0863 - val_acc: 0.9728\n",
      "Epoch 61/100\n",
      "60000/60000 [==============================] - 1s 12us/step - loss: 0.0517 - acc: 0.9874 - val_loss: 0.0862 - val_acc: 0.9736\n",
      "Epoch 62/100\n",
      "60000/60000 [==============================] - 1s 14us/step - loss: 0.0509 - acc: 0.9874 - val_loss: 0.0854 - val_acc: 0.9735\n",
      "Epoch 63/100\n",
      "60000/60000 [==============================] - 1s 12us/step - loss: 0.0501 - acc: 0.9877 - val_loss: 0.0857 - val_acc: 0.9724\n",
      "Epoch 64/100\n",
      "60000/60000 [==============================] - 1s 13us/step - loss: 0.0493 - acc: 0.9880 - val_loss: 0.0856 - val_acc: 0.9738\n",
      "Epoch 65/100\n",
      "60000/60000 [==============================] - 1s 13us/step - loss: 0.0486 - acc: 0.9881 - val_loss: 0.0855 - val_acc: 0.9742\n",
      "Epoch 66/100\n",
      "60000/60000 [==============================] - 1s 12us/step - loss: 0.0479 - acc: 0.9884 - val_loss: 0.0845 - val_acc: 0.9736\n",
      "Epoch 67/100\n",
      "60000/60000 [==============================] - 1s 15us/step - loss: 0.0471 - acc: 0.9888 - val_loss: 0.0843 - val_acc: 0.9745\n",
      "Epoch 68/100\n",
      "60000/60000 [==============================] - 1s 13us/step - loss: 0.0465 - acc: 0.9890 - val_loss: 0.0843 - val_acc: 0.9740\n",
      "Epoch 69/100\n",
      "60000/60000 [==============================] - 1s 12us/step - loss: 0.0458 - acc: 0.9890 - val_loss: 0.0842 - val_acc: 0.9733\n",
      "Epoch 70/100\n",
      "60000/60000 [==============================] - 1s 12us/step - loss: 0.0451 - acc: 0.9894 - val_loss: 0.0847 - val_acc: 0.9738\n",
      "Epoch 71/100\n",
      "60000/60000 [==============================] - 1s 15us/step - loss: 0.0443 - acc: 0.9896 - val_loss: 0.0853 - val_acc: 0.9750\n",
      "Epoch 72/100\n",
      "60000/60000 [==============================] - 1s 13us/step - loss: 0.0438 - acc: 0.9898 - val_loss: 0.0844 - val_acc: 0.9753\n",
      "Epoch 73/100\n",
      "60000/60000 [==============================] - 1s 13us/step - loss: 0.0431 - acc: 0.9901 - val_loss: 0.0836 - val_acc: 0.9743\n",
      "Epoch 74/100\n",
      "60000/60000 [==============================] - 1s 12us/step - loss: 0.0426 - acc: 0.9903 - val_loss: 0.0831 - val_acc: 0.9747\n",
      "Epoch 75/100\n",
      "60000/60000 [==============================] - 1s 12us/step - loss: 0.0419 - acc: 0.9906 - val_loss: 0.0827 - val_acc: 0.9747\n",
      "Epoch 76/100\n",
      "60000/60000 [==============================] - 1s 12us/step - loss: 0.0414 - acc: 0.9907 - val_loss: 0.0825 - val_acc: 0.9744\n",
      "Epoch 77/100\n",
      "60000/60000 [==============================] - 1s 13us/step - loss: 0.0408 - acc: 0.9908 - val_loss: 0.0832 - val_acc: 0.9756\n",
      "Epoch 78/100\n",
      "60000/60000 [==============================] - 1s 13us/step - loss: 0.0402 - acc: 0.9911 - val_loss: 0.0825 - val_acc: 0.9746\n",
      "Epoch 79/100\n",
      "60000/60000 [==============================] - 1s 13us/step - loss: 0.0396 - acc: 0.9914 - val_loss: 0.0828 - val_acc: 0.9752\n",
      "Epoch 80/100\n",
      "60000/60000 [==============================] - 1s 13us/step - loss: 0.0390 - acc: 0.9914 - val_loss: 0.0825 - val_acc: 0.9742\n",
      "Epoch 81/100\n",
      "60000/60000 [==============================] - 1s 16us/step - loss: 0.0386 - acc: 0.9914 - val_loss: 0.0822 - val_acc: 0.9744\n",
      "Epoch 82/100\n",
      "60000/60000 [==============================] - 1s 13us/step - loss: 0.0381 - acc: 0.9918 - val_loss: 0.0819 - val_acc: 0.9747\n",
      "Epoch 83/100\n",
      "60000/60000 [==============================] - 1s 13us/step - loss: 0.0375 - acc: 0.9915 - val_loss: 0.0822 - val_acc: 0.9750\n",
      "Epoch 84/100\n",
      "60000/60000 [==============================] - 1s 14us/step - loss: 0.0371 - acc: 0.9919 - val_loss: 0.0820 - val_acc: 0.9748\n",
      "Epoch 85/100\n",
      "60000/60000 [==============================] - 1s 13us/step - loss: 0.0365 - acc: 0.9922 - val_loss: 0.0812 - val_acc: 0.9749\n",
      "Epoch 86/100\n",
      "60000/60000 [==============================] - 1s 13us/step - loss: 0.0361 - acc: 0.9926 - val_loss: 0.0817 - val_acc: 0.9750\n",
      "Epoch 87/100\n",
      "60000/60000 [==============================] - 1s 13us/step - loss: 0.0356 - acc: 0.9925 - val_loss: 0.0816 - val_acc: 0.9752\n",
      "Epoch 88/100\n",
      "60000/60000 [==============================] - 1s 13us/step - loss: 0.0352 - acc: 0.9927 - val_loss: 0.0811 - val_acc: 0.9757\n",
      "Epoch 89/100\n",
      "60000/60000 [==============================] - 1s 12us/step - loss: 0.0347 - acc: 0.9926 - val_loss: 0.0815 - val_acc: 0.9756\n",
      "Epoch 90/100\n",
      "60000/60000 [==============================] - 1s 13us/step - loss: 0.0342 - acc: 0.9928 - val_loss: 0.0816 - val_acc: 0.9755\n",
      "Epoch 91/100\n",
      "60000/60000 [==============================] - 1s 12us/step - loss: 0.0338 - acc: 0.9930 - val_loss: 0.0811 - val_acc: 0.9758\n",
      "Epoch 92/100\n",
      "60000/60000 [==============================] - 1s 15us/step - loss: 0.0333 - acc: 0.9932 - val_loss: 0.0808 - val_acc: 0.9752\n",
      "Epoch 93/100\n",
      "60000/60000 [==============================] - 1s 15us/step - loss: 0.0330 - acc: 0.9932 - val_loss: 0.0813 - val_acc: 0.9748\n",
      "Epoch 94/100\n",
      "60000/60000 [==============================] - 1s 14us/step - loss: 0.0325 - acc: 0.9935 - val_loss: 0.0812 - val_acc: 0.9751\n",
      "Epoch 95/100\n",
      "60000/60000 [==============================] - 1s 13us/step - loss: 0.0321 - acc: 0.9935 - val_loss: 0.0807 - val_acc: 0.9754\n",
      "Epoch 96/100\n",
      "60000/60000 [==============================] - 1s 14us/step - loss: 0.0317 - acc: 0.9936 - val_loss: 0.0811 - val_acc: 0.9757\n",
      "Epoch 97/100\n",
      "60000/60000 [==============================] - 1s 14us/step - loss: 0.0313 - acc: 0.9939 - val_loss: 0.0806 - val_acc: 0.9754\n",
      "Epoch 98/100\n",
      "60000/60000 [==============================] - 1s 14us/step - loss: 0.0309 - acc: 0.9939 - val_loss: 0.0809 - val_acc: 0.9756\n",
      "Epoch 99/100\n",
      "60000/60000 [==============================] - 1s 14us/step - loss: 0.0305 - acc: 0.9940 - val_loss: 0.0810 - val_acc: 0.9753\n",
      "Epoch 100/100\n",
      "60000/60000 [==============================] - 1s 13us/step - loss: 0.0302 - acc: 0.9941 - val_loss: 0.0809 - val_acc: 0.9756\n"
     ]
    },
    {
     "data": {
      "text/plain": [
       "<keras.callbacks.History at 0xb219e0828>"
      ]
     },
     "execution_count": 18,
     "metadata": {},
     "output_type": "execute_result"
    }
   ],
   "source": [
    "model.fit(X_train,y_train,batch_size = 128, epochs=100, validation_data=(X_test,y_test),verbose=1)"
   ]
  },
  {
   "cell_type": "code",
   "execution_count": 32,
   "metadata": {},
   "outputs": [
    {
     "name": "stdout",
     "output_type": "stream",
     "text": [
      "10000/10000 [==============================] - 0s 9us/step\n",
      "60000/60000 [==============================] - 0s 8us/step\n"
     ]
    }
   ],
   "source": [
    "score = model.evaluate(X_test, y_test, batch_size=128)\n",
    "score_train = model.evaluate(X_train, y_train, batch_size=128)"
   ]
  },
  {
   "cell_type": "code",
   "execution_count": 33,
   "metadata": {},
   "outputs": [
    {
     "name": "stdout",
     "output_type": "stream",
     "text": [
      "Test Accuracy of the model :\t0.9756\n",
      "Train Accuracy of the model :\t0.9946166666984558\n"
     ]
    }
   ],
   "source": [
    "print('Test Accuracy of the model :\\t{}'.format(score[1]))\n",
    "print('Train Accuracy of the model :\\t{}'.format(score_train[1]))"
   ]
  },
  {
   "cell_type": "markdown",
   "metadata": {},
   "source": [
    "Look Like there is overfitting. That can be fixed by implememting the regularization and dropout layers."
   ]
  },
  {
   "cell_type": "code",
   "execution_count": null,
   "metadata": {},
   "outputs": [],
   "source": []
  }
 ],
 "metadata": {
  "kernelspec": {
   "display_name": "Python 3",
   "language": "python",
   "name": "python3"
  },
  "language_info": {
   "codemirror_mode": {
    "name": "ipython",
    "version": 3
   },
   "file_extension": ".py",
   "mimetype": "text/x-python",
   "name": "python",
   "nbconvert_exporter": "python",
   "pygments_lexer": "ipython3",
   "version": "3.6.5"
  }
 },
 "nbformat": 4,
 "nbformat_minor": 2
}

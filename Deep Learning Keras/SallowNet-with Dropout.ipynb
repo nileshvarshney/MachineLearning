{
 "cells": [
  {
   "cell_type": "markdown",
   "metadata": {},
   "source": [
    "## Sallow Neutal Net with dropout\n",
    "\n",
    "- adding more layers \n",
    "- adding dropout layers"
   ]
  },
  {
   "cell_type": "code",
   "execution_count": 1,
   "metadata": {},
   "outputs": [],
   "source": [
    "import numpy as np;\n",
    "np.random.seed(42)"
   ]
  },
  {
   "cell_type": "code",
   "execution_count": 20,
   "metadata": {},
   "outputs": [],
   "source": [
    "import keras\n",
    "from keras.datasets import mnist\n",
    "from keras.models import Sequential\n",
    "from keras.layers import Dense\n",
    "from keras.layers import Dropout\n",
    "from keras.optimizers import SGD\n",
    "from keras import layers"
   ]
  },
  {
   "cell_type": "markdown",
   "metadata": {},
   "source": [
    "## Load data"
   ]
  },
  {
   "cell_type": "code",
   "execution_count": 3,
   "metadata": {},
   "outputs": [],
   "source": [
    "(X_train, y_train),(X_test,y_test) = mnist.load_data()"
   ]
  },
  {
   "cell_type": "code",
   "execution_count": 4,
   "metadata": {},
   "outputs": [
    {
     "data": {
      "text/plain": [
       "(60000, 28, 28)"
      ]
     },
     "execution_count": 4,
     "metadata": {},
     "output_type": "execute_result"
    }
   ],
   "source": [
    "X_train.shape"
   ]
  },
  {
   "cell_type": "code",
   "execution_count": 5,
   "metadata": {},
   "outputs": [
    {
     "data": {
      "text/plain": [
       "(10000, 28, 28)"
      ]
     },
     "execution_count": 5,
     "metadata": {},
     "output_type": "execute_result"
    }
   ],
   "source": [
    "X_test.shape"
   ]
  },
  {
   "cell_type": "markdown",
   "metadata": {},
   "source": [
    "## PreProcess data"
   ]
  },
  {
   "cell_type": "code",
   "execution_count": 6,
   "metadata": {},
   "outputs": [],
   "source": [
    "X_train = X_train.reshape(60000,784)"
   ]
  },
  {
   "cell_type": "code",
   "execution_count": 7,
   "metadata": {},
   "outputs": [],
   "source": [
    "X_test = X_test.reshape(10000,784)"
   ]
  },
  {
   "cell_type": "code",
   "execution_count": 8,
   "metadata": {},
   "outputs": [
    {
     "data": {
      "text/plain": [
       "(60000, 784)"
      ]
     },
     "execution_count": 8,
     "metadata": {},
     "output_type": "execute_result"
    }
   ],
   "source": [
    "X_train.shape"
   ]
  },
  {
   "cell_type": "code",
   "execution_count": 9,
   "metadata": {},
   "outputs": [
    {
     "data": {
      "text/plain": [
       "(10000, 784)"
      ]
     },
     "execution_count": 9,
     "metadata": {},
     "output_type": "execute_result"
    }
   ],
   "source": [
    "X_test.shape"
   ]
  },
  {
   "cell_type": "code",
   "execution_count": 10,
   "metadata": {},
   "outputs": [],
   "source": [
    "X_train = X_train/255"
   ]
  },
  {
   "cell_type": "code",
   "execution_count": 11,
   "metadata": {},
   "outputs": [],
   "source": [
    "X_test = X_test/255"
   ]
  },
  {
   "cell_type": "code",
   "execution_count": 12,
   "metadata": {},
   "outputs": [],
   "source": [
    "n_categories = 10\n",
    "y_train = keras.utils.to_categorical(y_train, n_categories)\n",
    "y_test = keras.utils.to_categorical(y_test, n_categories)"
   ]
  },
  {
   "cell_type": "code",
   "execution_count": 13,
   "metadata": {},
   "outputs": [
    {
     "data": {
      "text/plain": [
       "array([0., 0., 0., 0., 0., 1., 0., 0., 0., 0.], dtype=float32)"
      ]
     },
     "execution_count": 13,
     "metadata": {},
     "output_type": "execute_result"
    }
   ],
   "source": [
    "y_train[0]"
   ]
  },
  {
   "cell_type": "markdown",
   "metadata": {},
   "source": [
    "##### **Design Model"
   ]
  },
  {
   "cell_type": "code",
   "execution_count": 14,
   "metadata": {},
   "outputs": [],
   "source": [
    "dropout = 0.5\n",
    "model = Sequential()\n",
    "model.add(layers.Dense(64,activation='tanh',input_shape = (784,)))\n",
    "model.add(layers.Dropout(dropout))\n",
    "model.add(layers.Dense(64,activation='tanh'))\n",
    "model.add(layers.Dropout(dropout))\n",
    "model.add(layers.Dense(10,activation='softmax'))"
   ]
  },
  {
   "cell_type": "code",
   "execution_count": 15,
   "metadata": {},
   "outputs": [
    {
     "name": "stdout",
     "output_type": "stream",
     "text": [
      "_________________________________________________________________\n",
      "Layer (type)                 Output Shape              Param #   \n",
      "=================================================================\n",
      "dense_1 (Dense)              (None, 64)                50240     \n",
      "_________________________________________________________________\n",
      "dropout_1 (Dropout)          (None, 64)                0         \n",
      "_________________________________________________________________\n",
      "dense_2 (Dense)              (None, 64)                4160      \n",
      "_________________________________________________________________\n",
      "dropout_2 (Dropout)          (None, 64)                0         \n",
      "_________________________________________________________________\n",
      "dense_3 (Dense)              (None, 10)                650       \n",
      "=================================================================\n",
      "Total params: 55,050\n",
      "Trainable params: 55,050\n",
      "Non-trainable params: 0\n",
      "_________________________________________________________________\n"
     ]
    }
   ],
   "source": [
    "model.summary()"
   ]
  },
  {
   "cell_type": "markdown",
   "metadata": {},
   "source": [
    "**Configure Model**"
   ]
  },
  {
   "cell_type": "code",
   "execution_count": 16,
   "metadata": {},
   "outputs": [],
   "source": [
    "model.compile(optimizer=SGD(lr=0.05),loss='categorical_crossentropy',metrics = ['accuracy'])"
   ]
  },
  {
   "cell_type": "markdown",
   "metadata": {},
   "source": [
    "**Train Model**"
   ]
  },
  {
   "cell_type": "code",
   "execution_count": 17,
   "metadata": {},
   "outputs": [
    {
     "name": "stdout",
     "output_type": "stream",
     "text": [
      "Train on 60000 samples, validate on 10000 samples\n",
      "Epoch 1/100\n",
      "60000/60000 [==============================] - 1s 20us/step - loss: 0.8750 - acc: 0.7271 - val_loss: 0.3605 - val_acc: 0.9005\n",
      "Epoch 2/100\n",
      "60000/60000 [==============================] - 1s 15us/step - loss: 0.5433 - acc: 0.8369 - val_loss: 0.3136 - val_acc: 0.9081\n",
      "Epoch 3/100\n",
      "60000/60000 [==============================] - 1s 16us/step - loss: 0.4873 - acc: 0.8550 - val_loss: 0.2922 - val_acc: 0.9171\n",
      "Epoch 4/100\n",
      "60000/60000 [==============================] - 1s 18us/step - loss: 0.4557 - acc: 0.8661 - val_loss: 0.2825 - val_acc: 0.9181\n",
      "Epoch 5/100\n",
      "60000/60000 [==============================] - 1s 15us/step - loss: 0.4363 - acc: 0.8729 - val_loss: 0.2722 - val_acc: 0.9189\n",
      "Epoch 6/100\n",
      "60000/60000 [==============================] - 1s 15us/step - loss: 0.4202 - acc: 0.8764 - val_loss: 0.2687 - val_acc: 0.9214\n",
      "Epoch 7/100\n",
      "60000/60000 [==============================] - 1s 15us/step - loss: 0.4109 - acc: 0.8801 - val_loss: 0.2603 - val_acc: 0.9239\n",
      "Epoch 8/100\n",
      "60000/60000 [==============================] - 1s 16us/step - loss: 0.4014 - acc: 0.8836 - val_loss: 0.2556 - val_acc: 0.9243\n",
      "Epoch 9/100\n",
      "60000/60000 [==============================] - 1s 16us/step - loss: 0.3952 - acc: 0.8854 - val_loss: 0.2520 - val_acc: 0.9268\n",
      "Epoch 10/100\n",
      "60000/60000 [==============================] - 1s 16us/step - loss: 0.3856 - acc: 0.8880 - val_loss: 0.2501 - val_acc: 0.9272\n",
      "Epoch 11/100\n",
      "60000/60000 [==============================] - 1s 15us/step - loss: 0.3767 - acc: 0.8911 - val_loss: 0.2451 - val_acc: 0.9286\n",
      "Epoch 12/100\n",
      "60000/60000 [==============================] - 1s 15us/step - loss: 0.3720 - acc: 0.8914 - val_loss: 0.2418 - val_acc: 0.9292\n",
      "Epoch 13/100\n",
      "60000/60000 [==============================] - 1s 15us/step - loss: 0.3673 - acc: 0.8943 - val_loss: 0.2407 - val_acc: 0.9283\n",
      "Epoch 14/100\n",
      "60000/60000 [==============================] - 1s 14us/step - loss: 0.3636 - acc: 0.8944 - val_loss: 0.2382 - val_acc: 0.9298\n",
      "Epoch 15/100\n",
      "60000/60000 [==============================] - 1s 15us/step - loss: 0.3560 - acc: 0.8972 - val_loss: 0.2354 - val_acc: 0.9303\n",
      "Epoch 16/100\n",
      "60000/60000 [==============================] - 1s 16us/step - loss: 0.3520 - acc: 0.8976 - val_loss: 0.2355 - val_acc: 0.9301\n",
      "Epoch 17/100\n",
      "60000/60000 [==============================] - 1s 18us/step - loss: 0.3494 - acc: 0.8974 - val_loss: 0.2295 - val_acc: 0.9314\n",
      "Epoch 18/100\n",
      "60000/60000 [==============================] - 1s 16us/step - loss: 0.3494 - acc: 0.8989 - val_loss: 0.2258 - val_acc: 0.9318\n",
      "Epoch 19/100\n",
      "60000/60000 [==============================] - 1s 16us/step - loss: 0.3403 - acc: 0.9004 - val_loss: 0.2241 - val_acc: 0.9330\n",
      "Epoch 20/100\n",
      "60000/60000 [==============================] - 1s 19us/step - loss: 0.3361 - acc: 0.9020 - val_loss: 0.2231 - val_acc: 0.9319\n",
      "Epoch 21/100\n",
      "60000/60000 [==============================] - 1s 16us/step - loss: 0.3383 - acc: 0.9019 - val_loss: 0.2213 - val_acc: 0.9336\n",
      "Epoch 22/100\n",
      "60000/60000 [==============================] - 1s 16us/step - loss: 0.3344 - acc: 0.9039 - val_loss: 0.2195 - val_acc: 0.9350\n",
      "Epoch 23/100\n",
      "60000/60000 [==============================] - 1s 17us/step - loss: 0.3306 - acc: 0.9049 - val_loss: 0.2211 - val_acc: 0.9343\n",
      "Epoch 24/100\n",
      "60000/60000 [==============================] - 1s 16us/step - loss: 0.3277 - acc: 0.9063 - val_loss: 0.2160 - val_acc: 0.9351\n",
      "Epoch 25/100\n",
      "60000/60000 [==============================] - 1s 16us/step - loss: 0.3255 - acc: 0.9066 - val_loss: 0.2175 - val_acc: 0.9354\n",
      "Epoch 26/100\n",
      "60000/60000 [==============================] - 1s 17us/step - loss: 0.3233 - acc: 0.9053 - val_loss: 0.2143 - val_acc: 0.9360\n",
      "Epoch 27/100\n",
      "60000/60000 [==============================] - 1s 22us/step - loss: 0.3186 - acc: 0.9077 - val_loss: 0.2158 - val_acc: 0.9354\n",
      "Epoch 28/100\n",
      "60000/60000 [==============================] - 1s 18us/step - loss: 0.3197 - acc: 0.9073 - val_loss: 0.2146 - val_acc: 0.9360\n",
      "Epoch 29/100\n",
      "60000/60000 [==============================] - 1s 16us/step - loss: 0.3139 - acc: 0.9102 - val_loss: 0.2116 - val_acc: 0.9373\n",
      "Epoch 30/100\n",
      "60000/60000 [==============================] - 1s 17us/step - loss: 0.3148 - acc: 0.9086 - val_loss: 0.2093 - val_acc: 0.9378\n",
      "Epoch 31/100\n",
      "60000/60000 [==============================] - 1s 17us/step - loss: 0.3157 - acc: 0.9084 - val_loss: 0.2084 - val_acc: 0.9384\n",
      "Epoch 32/100\n",
      "60000/60000 [==============================] - 1s 16us/step - loss: 0.3109 - acc: 0.9101 - val_loss: 0.2065 - val_acc: 0.9387\n",
      "Epoch 33/100\n",
      "60000/60000 [==============================] - 1s 16us/step - loss: 0.3149 - acc: 0.9095 - val_loss: 0.2042 - val_acc: 0.9380\n",
      "Epoch 34/100\n",
      "60000/60000 [==============================] - 1s 19us/step - loss: 0.3071 - acc: 0.9108 - val_loss: 0.2054 - val_acc: 0.9378\n",
      "Epoch 35/100\n",
      "60000/60000 [==============================] - 1s 19us/step - loss: 0.3066 - acc: 0.9112 - val_loss: 0.2055 - val_acc: 0.9383\n",
      "Epoch 36/100\n",
      "60000/60000 [==============================] - 1s 16us/step - loss: 0.3061 - acc: 0.9121 - val_loss: 0.1994 - val_acc: 0.9393\n",
      "Epoch 37/100\n",
      "60000/60000 [==============================] - 1s 16us/step - loss: 0.2995 - acc: 0.9136 - val_loss: 0.2000 - val_acc: 0.9398\n",
      "Epoch 38/100\n",
      "60000/60000 [==============================] - 1s 16us/step - loss: 0.3031 - acc: 0.9127 - val_loss: 0.1991 - val_acc: 0.9409\n",
      "Epoch 39/100\n",
      "60000/60000 [==============================] - 1s 17us/step - loss: 0.2992 - acc: 0.9141 - val_loss: 0.1977 - val_acc: 0.9405\n",
      "Epoch 40/100\n",
      "60000/60000 [==============================] - 1s 17us/step - loss: 0.2980 - acc: 0.9145 - val_loss: 0.1975 - val_acc: 0.9417\n",
      "Epoch 41/100\n",
      "60000/60000 [==============================] - 1s 15us/step - loss: 0.2945 - acc: 0.9139 - val_loss: 0.1960 - val_acc: 0.9418\n",
      "Epoch 42/100\n",
      "60000/60000 [==============================] - 1s 15us/step - loss: 0.2944 - acc: 0.9164 - val_loss: 0.1946 - val_acc: 0.9422\n",
      "Epoch 43/100\n",
      "60000/60000 [==============================] - 1s 17us/step - loss: 0.2940 - acc: 0.9146 - val_loss: 0.1931 - val_acc: 0.9421\n",
      "Epoch 44/100\n",
      "60000/60000 [==============================] - 1s 16us/step - loss: 0.2909 - acc: 0.9164 - val_loss: 0.1946 - val_acc: 0.9420\n",
      "Epoch 45/100\n",
      "60000/60000 [==============================] - 1s 18us/step - loss: 0.2889 - acc: 0.9160 - val_loss: 0.1939 - val_acc: 0.9410\n",
      "Epoch 46/100\n",
      "60000/60000 [==============================] - 1s 15us/step - loss: 0.2909 - acc: 0.9162 - val_loss: 0.1898 - val_acc: 0.9430\n",
      "Epoch 47/100\n",
      "60000/60000 [==============================] - 1s 17us/step - loss: 0.2942 - acc: 0.9147 - val_loss: 0.1905 - val_acc: 0.9445\n",
      "Epoch 48/100\n",
      "60000/60000 [==============================] - 1s 15us/step - loss: 0.2859 - acc: 0.9167 - val_loss: 0.1907 - val_acc: 0.9431\n",
      "Epoch 49/100\n",
      "60000/60000 [==============================] - 1s 15us/step - loss: 0.2867 - acc: 0.9169 - val_loss: 0.1912 - val_acc: 0.9436\n",
      "Epoch 50/100\n",
      "60000/60000 [==============================] - 1s 15us/step - loss: 0.2859 - acc: 0.9179 - val_loss: 0.1878 - val_acc: 0.9442\n",
      "Epoch 51/100\n",
      "60000/60000 [==============================] - 1s 15us/step - loss: 0.2840 - acc: 0.9181 - val_loss: 0.1893 - val_acc: 0.9437\n",
      "Epoch 52/100\n",
      "60000/60000 [==============================] - 1s 15us/step - loss: 0.2820 - acc: 0.9178 - val_loss: 0.1871 - val_acc: 0.9445\n",
      "Epoch 53/100\n",
      "60000/60000 [==============================] - 1s 15us/step - loss: 0.2875 - acc: 0.9175 - val_loss: 0.1851 - val_acc: 0.9444\n",
      "Epoch 54/100\n",
      "60000/60000 [==============================] - 1s 16us/step - loss: 0.2772 - acc: 0.9195 - val_loss: 0.1859 - val_acc: 0.9450\n",
      "Epoch 55/100\n",
      "60000/60000 [==============================] - 1s 15us/step - loss: 0.2798 - acc: 0.9190 - val_loss: 0.1857 - val_acc: 0.9446\n",
      "Epoch 56/100\n",
      "60000/60000 [==============================] - 1s 16us/step - loss: 0.2802 - acc: 0.9183 - val_loss: 0.1833 - val_acc: 0.9454\n",
      "Epoch 57/100\n",
      "60000/60000 [==============================] - 1s 15us/step - loss: 0.2784 - acc: 0.9190 - val_loss: 0.1830 - val_acc: 0.9453\n",
      "Epoch 58/100\n",
      "60000/60000 [==============================] - 1s 15us/step - loss: 0.2782 - acc: 0.9205 - val_loss: 0.1807 - val_acc: 0.9464\n",
      "Epoch 59/100\n"
     ]
    },
    {
     "name": "stdout",
     "output_type": "stream",
     "text": [
      "60000/60000 [==============================] - 1s 14us/step - loss: 0.2778 - acc: 0.9200 - val_loss: 0.1805 - val_acc: 0.9458\n",
      "Epoch 60/100\n",
      "60000/60000 [==============================] - 1s 16us/step - loss: 0.2748 - acc: 0.9199 - val_loss: 0.1815 - val_acc: 0.9453\n",
      "Epoch 61/100\n",
      "60000/60000 [==============================] - 1s 14us/step - loss: 0.2775 - acc: 0.9193 - val_loss: 0.1804 - val_acc: 0.9462\n",
      "Epoch 62/100\n",
      "60000/60000 [==============================] - 1s 16us/step - loss: 0.2738 - acc: 0.9201 - val_loss: 0.1812 - val_acc: 0.9455\n",
      "Epoch 63/100\n",
      "60000/60000 [==============================] - 1s 17us/step - loss: 0.2752 - acc: 0.9200 - val_loss: 0.1795 - val_acc: 0.9468\n",
      "Epoch 64/100\n",
      "60000/60000 [==============================] - 1s 16us/step - loss: 0.2728 - acc: 0.9205 - val_loss: 0.1790 - val_acc: 0.9472\n",
      "Epoch 65/100\n",
      "60000/60000 [==============================] - 1s 14us/step - loss: 0.2734 - acc: 0.9208 - val_loss: 0.1786 - val_acc: 0.9468\n",
      "Epoch 66/100\n",
      "60000/60000 [==============================] - 1s 17us/step - loss: 0.2710 - acc: 0.9217 - val_loss: 0.1777 - val_acc: 0.9477\n",
      "Epoch 67/100\n",
      "60000/60000 [==============================] - 1s 16us/step - loss: 0.2733 - acc: 0.9205 - val_loss: 0.1755 - val_acc: 0.9469\n",
      "Epoch 68/100\n",
      "60000/60000 [==============================] - 1s 14us/step - loss: 0.2735 - acc: 0.9211 - val_loss: 0.1761 - val_acc: 0.9474\n",
      "Epoch 69/100\n",
      "60000/60000 [==============================] - 1s 16us/step - loss: 0.2711 - acc: 0.9216 - val_loss: 0.1739 - val_acc: 0.9472\n",
      "Epoch 70/100\n",
      "60000/60000 [==============================] - 1s 14us/step - loss: 0.2710 - acc: 0.9221 - val_loss: 0.1752 - val_acc: 0.9481\n",
      "Epoch 71/100\n",
      "60000/60000 [==============================] - 1s 15us/step - loss: 0.2665 - acc: 0.9223 - val_loss: 0.1744 - val_acc: 0.9469\n",
      "Epoch 72/100\n",
      "60000/60000 [==============================] - 1s 14us/step - loss: 0.2679 - acc: 0.9224 - val_loss: 0.1747 - val_acc: 0.9491\n",
      "Epoch 73/100\n",
      "60000/60000 [==============================] - 1s 14us/step - loss: 0.2654 - acc: 0.9219 - val_loss: 0.1740 - val_acc: 0.9483\n",
      "Epoch 74/100\n",
      "60000/60000 [==============================] - 1s 15us/step - loss: 0.2605 - acc: 0.9243 - val_loss: 0.1719 - val_acc: 0.9490\n",
      "Epoch 75/100\n",
      "60000/60000 [==============================] - 1s 16us/step - loss: 0.2700 - acc: 0.9225 - val_loss: 0.1726 - val_acc: 0.9495\n",
      "Epoch 76/100\n",
      "60000/60000 [==============================] - 1s 14us/step - loss: 0.2660 - acc: 0.9232 - val_loss: 0.1724 - val_acc: 0.9486\n",
      "Epoch 77/100\n",
      "60000/60000 [==============================] - 1s 14us/step - loss: 0.2644 - acc: 0.9236 - val_loss: 0.1713 - val_acc: 0.9493\n",
      "Epoch 78/100\n",
      "60000/60000 [==============================] - 1s 14us/step - loss: 0.2658 - acc: 0.9236 - val_loss: 0.1710 - val_acc: 0.9475\n",
      "Epoch 79/100\n",
      "60000/60000 [==============================] - 1s 15us/step - loss: 0.2659 - acc: 0.9227 - val_loss: 0.1692 - val_acc: 0.9490\n",
      "Epoch 80/100\n",
      "60000/60000 [==============================] - 1s 15us/step - loss: 0.2617 - acc: 0.9236 - val_loss: 0.1710 - val_acc: 0.9490\n",
      "Epoch 81/100\n",
      "60000/60000 [==============================] - 1s 15us/step - loss: 0.2626 - acc: 0.9238 - val_loss: 0.1702 - val_acc: 0.9492\n",
      "Epoch 82/100\n",
      "60000/60000 [==============================] - 1s 15us/step - loss: 0.2590 - acc: 0.9252 - val_loss: 0.1690 - val_acc: 0.9493\n",
      "Epoch 83/100\n",
      "60000/60000 [==============================] - 1s 15us/step - loss: 0.2632 - acc: 0.9228 - val_loss: 0.1685 - val_acc: 0.9492\n",
      "Epoch 84/100\n",
      "60000/60000 [==============================] - 1s 15us/step - loss: 0.2600 - acc: 0.9236 - val_loss: 0.1688 - val_acc: 0.9503\n",
      "Epoch 85/100\n",
      "60000/60000 [==============================] - 1s 15us/step - loss: 0.2600 - acc: 0.9235 - val_loss: 0.1703 - val_acc: 0.9498\n",
      "Epoch 86/100\n",
      "60000/60000 [==============================] - 1s 15us/step - loss: 0.2611 - acc: 0.9242 - val_loss: 0.1673 - val_acc: 0.9498\n",
      "Epoch 87/100\n",
      "60000/60000 [==============================] - 1s 15us/step - loss: 0.2586 - acc: 0.9256 - val_loss: 0.1649 - val_acc: 0.9502\n",
      "Epoch 88/100\n",
      "60000/60000 [==============================] - 1s 17us/step - loss: 0.2569 - acc: 0.9250 - val_loss: 0.1656 - val_acc: 0.9513\n",
      "Epoch 89/100\n",
      "60000/60000 [==============================] - 1s 16us/step - loss: 0.2580 - acc: 0.9237 - val_loss: 0.1649 - val_acc: 0.9523\n",
      "Epoch 90/100\n",
      "60000/60000 [==============================] - 1s 15us/step - loss: 0.2547 - acc: 0.9248 - val_loss: 0.1659 - val_acc: 0.9515\n",
      "Epoch 91/100\n",
      "60000/60000 [==============================] - 1s 15us/step - loss: 0.2558 - acc: 0.9245 - val_loss: 0.1659 - val_acc: 0.9498\n",
      "Epoch 92/100\n",
      "60000/60000 [==============================] - 1s 15us/step - loss: 0.2576 - acc: 0.9254 - val_loss: 0.1637 - val_acc: 0.9514\n",
      "Epoch 93/100\n",
      "60000/60000 [==============================] - 1s 15us/step - loss: 0.2567 - acc: 0.9257 - val_loss: 0.1644 - val_acc: 0.9506\n",
      "Epoch 94/100\n",
      "60000/60000 [==============================] - 1s 15us/step - loss: 0.2552 - acc: 0.9263 - val_loss: 0.1640 - val_acc: 0.9503\n",
      "Epoch 95/100\n",
      "60000/60000 [==============================] - 1s 16us/step - loss: 0.2582 - acc: 0.9238 - val_loss: 0.1618 - val_acc: 0.9524\n",
      "Epoch 96/100\n",
      "60000/60000 [==============================] - 1s 15us/step - loss: 0.2558 - acc: 0.9258 - val_loss: 0.1623 - val_acc: 0.9520\n",
      "Epoch 97/100\n",
      "60000/60000 [==============================] - 1s 15us/step - loss: 0.2549 - acc: 0.9250 - val_loss: 0.1615 - val_acc: 0.9517\n",
      "Epoch 98/100\n",
      "60000/60000 [==============================] - 1s 15us/step - loss: 0.2536 - acc: 0.9255 - val_loss: 0.1636 - val_acc: 0.9519\n",
      "Epoch 99/100\n",
      "60000/60000 [==============================] - 1s 17us/step - loss: 0.2528 - acc: 0.9260 - val_loss: 0.1614 - val_acc: 0.9510\n",
      "Epoch 100/100\n",
      "60000/60000 [==============================] - 1s 18us/step - loss: 0.2541 - acc: 0.9259 - val_loss: 0.1626 - val_acc: 0.9513\n"
     ]
    },
    {
     "data": {
      "text/plain": [
       "<keras.callbacks.History at 0xb1da90da0>"
      ]
     },
     "execution_count": 17,
     "metadata": {},
     "output_type": "execute_result"
    }
   ],
   "source": [
    "model.fit(X_train,y_train,batch_size = 128, epochs=100, validation_data=(X_test,y_test),verbose=1)"
   ]
  },
  {
   "cell_type": "code",
   "execution_count": 18,
   "metadata": {},
   "outputs": [
    {
     "name": "stdout",
     "output_type": "stream",
     "text": [
      "10000/10000 [==============================] - 0s 10us/step\n",
      "60000/60000 [==============================] - 0s 8us/step\n"
     ]
    }
   ],
   "source": [
    "score = model.evaluate(X_test, y_test, batch_size=128)\n",
    "score_train = model.evaluate(X_train, y_train, batch_size=128)"
   ]
  },
  {
   "cell_type": "code",
   "execution_count": 19,
   "metadata": {},
   "outputs": [
    {
     "name": "stdout",
     "output_type": "stream",
     "text": [
      "Test Accuracy of the model :\t0.9513\n",
      "Train Accuracy of the model :\t0.9588833333651224\n"
     ]
    }
   ],
   "source": [
    "print('Test Accuracy of the model :\\t{}'.format(score[1]))\n",
    "print('Train Accuracy of the model :\\t{}'.format(score_train[1]))"
   ]
  },
  {
   "cell_type": "markdown",
   "metadata": {},
   "source": [
    "Looks pretty good. Training and test score is very close."
   ]
  },
  {
   "cell_type": "code",
   "execution_count": null,
   "metadata": {},
   "outputs": [],
   "source": []
  }
 ],
 "metadata": {
  "kernelspec": {
   "display_name": "Python 3",
   "language": "python",
   "name": "python3"
  },
  "language_info": {
   "codemirror_mode": {
    "name": "ipython",
    "version": 3
   },
   "file_extension": ".py",
   "mimetype": "text/x-python",
   "name": "python",
   "nbconvert_exporter": "python",
   "pygments_lexer": "ipython3",
   "version": "3.6.5"
  }
 },
 "nbformat": 4,
 "nbformat_minor": 2
}

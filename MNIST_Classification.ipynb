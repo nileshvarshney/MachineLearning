{
  "nbformat": 4,
  "nbformat_minor": 0,
  "metadata": {
    "colab": {
      "name": "MNIST_Classification.ipynb",
      "version": "0.3.2",
      "provenance": [],
      "collapsed_sections": [],
      "include_colab_link": true
    },
    "kernelspec": {
      "name": "python3",
      "display_name": "Python 3"
    }
  },
  "cells": [
    {
      "cell_type": "markdown",
      "metadata": {
        "id": "view-in-github",
        "colab_type": "text"
      },
      "source": [
        "<a href=\"https://colab.research.google.com/github/nileshvarshney/MachineLearning/blob/development/MNIST_Classification.ipynb\" target=\"_parent\"><img src=\"https://colab.research.google.com/assets/colab-badge.svg\" alt=\"Open In Colab\"/></a>"
      ]
    },
    {
      "cell_type": "code",
      "metadata": {
        "id": "8WEv63sEtpmC",
        "colab_type": "code",
        "colab": {
          "base_uri": "https://localhost:8080/",
          "height": 67
        },
        "outputId": "edc45842-0c7b-466e-e836-dedfec980611"
      },
      "source": [
        "# make the code compatible to both python 2 and python3\n",
        "from __future__ import print_function,absolute_import,division\n",
        "\n",
        "import numpy as np\n",
        "import tensorflow as tf\n",
        "from tensorflow import keras\n",
        "import matplotlib\n",
        "import matplotlib.pyplot as plt\n",
        "from tensorflow.examples.tutorials.mnist import input_data\n",
        "\n",
        "print(np.__version__)\n",
        "print(matplotlib.__version__)\n",
        "print(tf.__version__)"
      ],
      "execution_count": 1,
      "outputs": [
        {
          "output_type": "stream",
          "text": [
            "1.16.4\n",
            "3.0.3\n",
            "1.14.0\n"
          ],
          "name": "stdout"
        }
      ]
    },
    {
      "cell_type": "code",
      "metadata": {
        "id": "D0hdBR0Mt5hT",
        "colab_type": "code",
        "colab": {}
      },
      "source": [
        "# Read the dataset\n",
        "mnist = keras.datasets.fashion_mnist\n",
        "\n",
        "(x_train_full, y_train_full), (x_test, y_test) =  mnist.load_data()"
      ],
      "execution_count": 0,
      "outputs": []
    },
    {
      "cell_type": "code",
      "metadata": {
        "id": "v1YiCBkCuSXg",
        "colab_type": "code",
        "colab": {
          "base_uri": "https://localhost:8080/",
          "height": 50
        },
        "outputId": "9c6e967f-b3e3-47f4-c62d-295d13c6dd81"
      },
      "source": [
        "print(x_train_full.shape, y_test_full.shape)\n",
        "print(x_train_full.dtype)"
      ],
      "execution_count": 7,
      "outputs": [
        {
          "output_type": "stream",
          "text": [
            "(60000, 28, 28) (60000,)\n",
            "uint8\n"
          ],
          "name": "stdout"
        }
      ]
    },
    {
      "cell_type": "code",
      "metadata": {
        "id": "wZYlyy7su0bD",
        "colab_type": "code",
        "colab": {}
      },
      "source": [
        "# split training data in training set and validation\n",
        "x_validation, x_train = x_train_full[:5000], x_train_full[5000:]\n",
        "y_validation, y_train = y_train_full[:5000], y_train_full[5000:]\n",
        "\n",
        "# normalize data\n",
        "x_validation, x_train = x_validation/255.0, x_train/255.0\n",
        "\n",
        "\n",
        "class_names = [\"T-shirt/top\", \"Trouser\", \"Pullover\", \"Dress\", \"Coat\",\n",
        "               \"Sandal\", \"Shirt\", \"Sneaker\", \"Bag\", \"Ankle boot\"]"
      ],
      "execution_count": 0,
      "outputs": []
    },
    {
      "cell_type": "code",
      "metadata": {
        "id": "_U5I_fUIvZxH",
        "colab_type": "code",
        "colab": {
          "base_uri": "https://localhost:8080/",
          "height": 281
        },
        "outputId": "78df9504-2b95-489a-acb0-797f0df43ac9"
      },
      "source": [
        "def plot_picture(index):\n",
        "  plt.imshow(x_train[index].reshape(28,28), interpolation='nearest')\n",
        "  plt.title(class_names[y_train[index]])\n",
        "  plt.show()\n",
        "  \n",
        "plot_picture(9)"
      ],
      "execution_count": 26,
      "outputs": [
        {
          "output_type": "display_data",
          "data": {
            "image/png": "[encoded data removed]",
            "text/plain": [
              "<Figure size 432x288 with 1 Axes>"
            ]
          },
          "metadata": {
            "tags": []
          }
        }
      ]
    },
    {
      "cell_type": "code",
      "metadata": {
        "id": "dyYrioZaw2rL",
        "colab_type": "code",
        "colab": {}
      },
      "source": [
        "# create model using sequencial api\n",
        "model = keras.models.Sequential()\n",
        "model.add(keras.layers.Flatten(input_shape = [28, 28]))\n",
        "model.add(keras.layers.Dense(300,activation = \"relu\"))\n",
        "model.add(keras.layers.Dense(100,activation = \"relu\"))\n",
        "model.add(keras.layers.Dense(10,activation = \"softmax\"))\n",
        "\n",
        "model.summary()"
      ],
      "execution_count": 0,
      "outputs": []
    }
  ]
}
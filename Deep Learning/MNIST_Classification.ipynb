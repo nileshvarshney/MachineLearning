{
  "nbformat": 4,
  "nbformat_minor": 0,
  "metadata": {
    "colab": {
      "name": "MNIST_Classification.ipynb",
      "version": "0.3.2",
      "provenance": [],
      "collapsed_sections": [],
      "include_colab_link": true
    },
    "kernelspec": {
      "name": "python3",
      "display_name": "Python 3"
    }
  },
  "cells": [
    {
      "cell_type": "markdown",
      "metadata": {
        "id": "view-in-github",
        "colab_type": "text"
      },
      "source": [
        "<a href=\"https://colab.research.google.com/github/nileshvarshney/MachineLearning/blob/development/Deep%20Learning/MNIST_Classification.ipynb\" target=\"_parent\"><img src=\"https://colab.research.google.com/assets/colab-badge.svg\" alt=\"Open In Colab\"/></a>"
      ]
    },
    {
      "cell_type": "code",
      "metadata": {
        "id": "8WEv63sEtpmC",
        "colab_type": "code",
        "colab": {
          "base_uri": "https://localhost:8080/",
          "height": 67
        },
        "outputId": "edc45842-0c7b-466e-e836-dedfec980611"
      },
      "source": [
        "# make the code compatible to both python 2 and python3\n",
        "from __future__ import print_function,absolute_import,division\n",
        "\n",
        "import numpy as np\n",
        "import tensorflow as tf\n",
        "from tensorflow import keras\n",
        "import matplotlib\n",
        "import matplotlib.pyplot as plt\n",
        "from tensorflow.examples.tutorials.mnist import input_data\n",
        "\n",
        "print(np.__version__)\n",
        "print(matplotlib.__version__)\n",
        "print(tf.__version__)"
      ],
      "execution_count": 1,
      "outputs": [
        {
          "output_type": "stream",
          "text": [
            "1.16.4\n",
            "3.0.3\n",
            "1.14.0\n"
          ],
          "name": "stdout"
        }
      ]
    },
    {
      "cell_type": "code",
      "metadata": {
        "id": "D0hdBR0Mt5hT",
        "colab_type": "code",
        "colab": {}
      },
      "source": [
        "# Read the dataset\n",
        "mnist = keras.datasets.fashion_mnist\n",
        "\n",
        "(x_train_full, y_train_full), (x_test, y_test) =  mnist.load_data()"
      ],
      "execution_count": 0,
      "outputs": []
    },
    {
      "cell_type": "code",
      "metadata": {
        "id": "v1YiCBkCuSXg",
        "colab_type": "code",
        "colab": {
          "base_uri": "https://localhost:8080/",
          "height": 50
        },
        "outputId": "9c6e967f-b3e3-47f4-c62d-295d13c6dd81"
      },
      "source": [
        "print(x_train_full.shape, y_test_full.shape)\n",
        "print(x_train_full.dtype)"
      ],
      "execution_count": 7,
      "outputs": [
        {
          "output_type": "stream",
          "text": [
            "(60000, 28, 28) (60000,)\n",
            "uint8\n"
          ],
          "name": "stdout"
        }
      ]
    },
    {
      "cell_type": "code",
      "metadata": {
        "id": "wZYlyy7su0bD",
        "colab_type": "code",
        "colab": {}
      },
      "source": [
        "# split training data in training set and validation\n",
        "x_validation, x_train = x_train_full[:5000], x_train_full[5000:]\n",
        "y_validation, y_train = y_train_full[:5000], y_train_full[5000:]\n",
        "\n",
        "# normalize data\n",
        "x_validation, x_train = x_validation/255.0, x_train/255.0\n",
        "\n",
        "\n",
        "class_names = [\"T-shirt/top\", \"Trouser\", \"Pullover\", \"Dress\", \"Coat\",\n",
        "               \"Sandal\", \"Shirt\", \"Sneaker\", \"Bag\", \"Ankle boot\"]"
      ],
      "execution_count": 0,
      "outputs": []
    },
    {
      "cell_type": "code",
      "metadata": {
        "id": "_U5I_fUIvZxH",
        "colab_type": "code",
        "colab": {
          "base_uri": "https://localhost:8080/",
          "height": 281
        },
        "outputId": "78df9504-2b95-489a-acb0-797f0df43ac9"
      },
      "source": [
        "def plot_picture(index):\n",
        "  plt.imshow(x_train[index].reshape(28,28), interpolation='nearest')\n",
        "  plt.title(class_names[y_train[index]])\n",
        "  plt.show()\n",
        "  \n",
        "plot_picture(9)"
      ],
      "execution_count": 26,
      "outputs": [
        {
          "output_type": "display_data",
          "data": {
            "image/png": "[encoded data removed]",
            "text/plain": [
              "<Figure size 432x288 with 1 Axes>"
            ]
          },
          "metadata": {
            "tags": []
          }
        }
      ]
    },
    {
      "cell_type": "code",
      "metadata": {
        "id": "dyYrioZaw2rL",
        "colab_type": "code",
        "colab": {
          "base_uri": "https://localhost:8080/",
          "height": 373
        },
        "outputId": "5f4cca6f-8755-4064-f775-a99d29f0c041"
      },
      "source": [
        "# create model using sequencial api\n",
        "model = keras.models.Sequential()\n",
        "model.add(keras.layers.Flatten(input_shape = [28, 28]))\n",
        "model.add(keras.layers.Dense(300,activation = \"relu\"))\n",
        "model.add(keras.layers.Dense(100,activation = \"relu\"))\n",
        "model.add(keras.layers.Dense(10,activation = \"softmax\"))\n",
        "\n",
        "model.summary()"
      ],
      "execution_count": 29,
      "outputs": [
        {
          "output_type": "stream",
          "text": [
            "WARNING: Logging before flag parsing goes to stderr.\n",
            "W0830 18:51:47.803704 140185656838016 deprecation.py:506] From /usr/local/lib/python3.6/dist-packages/tensorflow/python/ops/init_ops.py:1251: calling VarianceScaling.__init__ (from tensorflow.python.ops.init_ops) with dtype is deprecated and will be removed in a future version.\n",
            "Instructions for updating:\n",
            "Call initializer instance with the dtype argument instead of passing it to the constructor\n"
          ],
          "name": "stderr"
        },
        {
          "output_type": "stream",
          "text": [
            "Model: \"sequential_1\"\n",
            "_________________________________________________________________\n",
            "Layer (type)                 Output Shape              Param #   \n",
            "=================================================================\n",
            "flatten (Flatten)            (None, 784)               0         \n",
            "_________________________________________________________________\n",
            "dense (Dense)                (None, 300)               235500    \n",
            "_________________________________________________________________\n",
            "dense_1 (Dense)              (None, 100)               30100     \n",
            "_________________________________________________________________\n",
            "dense_2 (Dense)              (None, 10)                1010      \n",
            "=================================================================\n",
            "Total params: 266,610\n",
            "Trainable params: 266,610\n",
            "Non-trainable params: 0\n",
            "_________________________________________________________________\n"
          ],
          "name": "stdout"
        }
      ]
    },
    {
      "cell_type": "code",
      "metadata": {
        "id": "b_qnRGZY3wdy",
        "colab_type": "code",
        "colab": {
          "base_uri": "https://localhost:8080/",
          "height": 121
        },
        "outputId": "0823b59a-4a7b-495d-c5af-af8006c7bcb2"
      },
      "source": [
        "print(model.layers)\n",
        "print(model.layers[0].name)\n",
        "print(model.layers[1].name)\n",
        "print(model.layers[2].name)\n",
        "print(model.layers[3].name)"
      ],
      "execution_count": 31,
      "outputs": [
        {
          "output_type": "stream",
          "text": [
            "[<tensorflow.python.keras.layers.core.Flatten object at 0x7f7f3be677b8>, <tensorflow.python.keras.layers.core.Dense object at 0x7f7f3ee60668>, <tensorflow.python.keras.layers.core.Dense object at 0x7f7f3bd51470>, <tensorflow.python.keras.layers.core.Dense object at 0x7f7f3bd51908>]\n",
            "flatten\n",
            "dense\n",
            "dense_1\n",
            "dense_2\n"
          ],
          "name": "stdout"
        }
      ]
    },
    {
      "cell_type": "code",
      "metadata": {
        "id": "XAhB0PkH4iHo",
        "colab_type": "code",
        "colab": {
          "base_uri": "https://localhost:8080/",
          "height": 454
        },
        "outputId": "a5c76bdf-0e4c-4ef6-86d3-e14fc9fe3c3d"
      },
      "source": [
        "weights, bias = model.layers[1].get_weights()\n",
        "print(weights)\n",
        "print(bias)"
      ],
      "execution_count": 35,
      "outputs": [
        {
          "output_type": "stream",
          "text": [
            "[[-0.04906161 -0.02331203  0.03337326 ... -0.06073682 -0.02312337\n",
            "   0.05814646]\n",
            " [-0.01746373  0.05973896 -0.06341302 ... -0.03136097  0.01893464\n",
            "   0.0376079 ]\n",
            " [ 0.04326729  0.04192501 -0.05786352 ... -0.00777975  0.05239101\n",
            "   0.07125805]\n",
            " ...\n",
            " [ 0.0134677  -0.03213127 -0.07098694 ...  0.03276577 -0.05353105\n",
            "  -0.0711353 ]\n",
            " [ 0.010222    0.06024396 -0.04595589 ...  0.07183863 -0.05670902\n",
            "  -0.003826  ]\n",
            " [-0.05771864  0.06125417 -0.06345606 ...  0.03629626 -0.0619307\n",
            "  -0.04106625]]\n",
            "[0. 0. 0. 0. 0. 0. 0. 0. 0. 0. 0. 0. 0. 0. 0. 0. 0. 0. 0. 0. 0. 0. 0. 0.\n",
            " 0. 0. 0. 0. 0. 0. 0. 0. 0. 0. 0. 0. 0. 0. 0. 0. 0. 0. 0. 0. 0. 0. 0. 0.\n",
            " 0. 0. 0. 0. 0. 0. 0. 0. 0. 0. 0. 0. 0. 0. 0. 0. 0. 0. 0. 0. 0. 0. 0. 0.\n",
            " 0. 0. 0. 0. 0. 0. 0. 0. 0. 0. 0. 0. 0. 0. 0. 0. 0. 0. 0. 0. 0. 0. 0. 0.\n",
            " 0. 0. 0. 0. 0. 0. 0. 0. 0. 0. 0. 0. 0. 0. 0. 0. 0. 0. 0. 0. 0. 0. 0. 0.\n",
            " 0. 0. 0. 0. 0. 0. 0. 0. 0. 0. 0. 0. 0. 0. 0. 0. 0. 0. 0. 0. 0. 0. 0. 0.\n",
            " 0. 0. 0. 0. 0. 0. 0. 0. 0. 0. 0. 0. 0. 0. 0. 0. 0. 0. 0. 0. 0. 0. 0. 0.\n",
            " 0. 0. 0. 0. 0. 0. 0. 0. 0. 0. 0. 0. 0. 0. 0. 0. 0. 0. 0. 0. 0. 0. 0. 0.\n",
            " 0. 0. 0. 0. 0. 0. 0. 0. 0. 0. 0. 0. 0. 0. 0. 0. 0. 0. 0. 0. 0. 0. 0. 0.\n",
            " 0. 0. 0. 0. 0. 0. 0. 0. 0. 0. 0. 0. 0. 0. 0. 0. 0. 0. 0. 0. 0. 0. 0. 0.\n",
            " 0. 0. 0. 0. 0. 0. 0. 0. 0. 0. 0. 0. 0. 0. 0. 0. 0. 0. 0. 0. 0. 0. 0. 0.\n",
            " 0. 0. 0. 0. 0. 0. 0. 0. 0. 0. 0. 0. 0. 0. 0. 0. 0. 0. 0. 0. 0. 0. 0. 0.\n",
            " 0. 0. 0. 0. 0. 0. 0. 0. 0. 0. 0. 0.]\n"
          ],
          "name": "stdout"
        }
      ]
    },
    {
      "cell_type": "code",
      "metadata": {
        "id": "YTRLyh-s42hm",
        "colab_type": "code",
        "colab": {}
      },
      "source": [
        "# Compile the model\n",
        "model.compile(\n",
        "    loss=keras.losses.sparse_categorical_crossentropy, \n",
        "    optimizer=keras.optimizers.SGD(lr=0.01), \n",
        "    metrics=[\"accuracy\"])"
      ],
      "execution_count": 0,
      "outputs": []
    },
    {
      "cell_type": "code",
      "metadata": {
        "id": "rRcQIVnP6oa-",
        "colab_type": "code",
        "colab": {
          "base_uri": "https://localhost:8080/",
          "height": 1000
        },
        "outputId": "cf849b89-a2b3-46b6-d0c2-2739b79bf89d"
      },
      "source": [
        "history = model.fit(\n",
        "    x_train, y_train, \n",
        "    epochs = 30, \n",
        "    validation_data = (x_validation, y_validation))"
      ],
      "execution_count": 41,
      "outputs": [
        {
          "output_type": "stream",
          "text": [
            "Train on 55000 samples, validate on 5000 samples\n",
            "Epoch 1/30\n",
            "55000/55000 [==============================] - 6s 106us/sample - loss: 0.7214 - acc: 0.7629 - val_loss: 0.5697 - val_acc: 0.7950\n",
            "Epoch 2/30\n",
            "55000/55000 [==============================] - 5s 97us/sample - loss: 0.4909 - acc: 0.8288 - val_loss: 0.4919 - val_acc: 0.8234\n",
            "Epoch 3/30\n",
            "55000/55000 [==============================] - 5s 98us/sample - loss: 0.4445 - acc: 0.8427 - val_loss: 0.4158 - val_acc: 0.8590\n",
            "Epoch 4/30\n",
            "55000/55000 [==============================] - 5s 99us/sample - loss: 0.4173 - acc: 0.8540 - val_loss: 0.4092 - val_acc: 0.8532\n",
            "Epoch 5/30\n",
            "55000/55000 [==============================] - 5s 98us/sample - loss: 0.3976 - acc: 0.8604 - val_loss: 0.3815 - val_acc: 0.8664\n",
            "Epoch 6/30\n",
            "55000/55000 [==============================] - 5s 97us/sample - loss: 0.3821 - acc: 0.8641 - val_loss: 0.3646 - val_acc: 0.8724\n",
            "Epoch 7/30\n",
            "55000/55000 [==============================] - 5s 94us/sample - loss: 0.3679 - acc: 0.8684 - val_loss: 0.3760 - val_acc: 0.8694\n",
            "Epoch 8/30\n",
            "55000/55000 [==============================] - 5s 95us/sample - loss: 0.3564 - acc: 0.8729 - val_loss: 0.3542 - val_acc: 0.8762\n",
            "Epoch 9/30\n",
            "55000/55000 [==============================] - 5s 96us/sample - loss: 0.3453 - acc: 0.8764 - val_loss: 0.3509 - val_acc: 0.8766\n",
            "Epoch 10/30\n",
            "55000/55000 [==============================] - 5s 96us/sample - loss: 0.3359 - acc: 0.8806 - val_loss: 0.3660 - val_acc: 0.8702\n",
            "Epoch 11/30\n",
            "55000/55000 [==============================] - 5s 99us/sample - loss: 0.3269 - acc: 0.8828 - val_loss: 0.3385 - val_acc: 0.8808\n",
            "Epoch 12/30\n",
            "55000/55000 [==============================] - 6s 100us/sample - loss: 0.3188 - acc: 0.8863 - val_loss: 0.3285 - val_acc: 0.8836\n",
            "Epoch 13/30\n",
            "55000/55000 [==============================] - 5s 100us/sample - loss: 0.3109 - acc: 0.8881 - val_loss: 0.3259 - val_acc: 0.8844\n",
            "Epoch 14/30\n",
            "55000/55000 [==============================] - 5s 97us/sample - loss: 0.3038 - acc: 0.8904 - val_loss: 0.3470 - val_acc: 0.8722\n",
            "Epoch 15/30\n",
            "55000/55000 [==============================] - 5s 94us/sample - loss: 0.2980 - acc: 0.8925 - val_loss: 0.3208 - val_acc: 0.8832\n",
            "Epoch 16/30\n",
            "55000/55000 [==============================] - 5s 92us/sample - loss: 0.2915 - acc: 0.8950 - val_loss: 0.3149 - val_acc: 0.8890\n",
            "Epoch 17/30\n",
            "55000/55000 [==============================] - 5s 93us/sample - loss: 0.2859 - acc: 0.8971 - val_loss: 0.3199 - val_acc: 0.8874\n",
            "Epoch 18/30\n",
            "55000/55000 [==============================] - 5s 94us/sample - loss: 0.2801 - acc: 0.9001 - val_loss: 0.3047 - val_acc: 0.8904\n",
            "Epoch 19/30\n",
            "55000/55000 [==============================] - 5s 95us/sample - loss: 0.2744 - acc: 0.9008 - val_loss: 0.3067 - val_acc: 0.8902\n",
            "Epoch 20/30\n",
            "55000/55000 [==============================] - 5s 100us/sample - loss: 0.2700 - acc: 0.9026 - val_loss: 0.3051 - val_acc: 0.8928\n",
            "Epoch 21/30\n",
            "55000/55000 [==============================] - 5s 99us/sample - loss: 0.2633 - acc: 0.9067 - val_loss: 0.3208 - val_acc: 0.8840\n",
            "Epoch 22/30\n",
            "55000/55000 [==============================] - 5s 94us/sample - loss: 0.2591 - acc: 0.9066 - val_loss: 0.3097 - val_acc: 0.8862\n",
            "Epoch 23/30\n",
            "55000/55000 [==============================] - 5s 95us/sample - loss: 0.2549 - acc: 0.9076 - val_loss: 0.3218 - val_acc: 0.8868\n",
            "Epoch 24/30\n",
            "55000/55000 [==============================] - 5s 93us/sample - loss: 0.2515 - acc: 0.9086 - val_loss: 0.2939 - val_acc: 0.8964\n",
            "Epoch 25/30\n",
            "55000/55000 [==============================] - 5s 95us/sample - loss: 0.2463 - acc: 0.9107 - val_loss: 0.2975 - val_acc: 0.8880\n",
            "Epoch 26/30\n",
            "55000/55000 [==============================] - 5s 95us/sample - loss: 0.2417 - acc: 0.9138 - val_loss: 0.3026 - val_acc: 0.8946\n",
            "Epoch 27/30\n",
            "55000/55000 [==============================] - 5s 95us/sample - loss: 0.2383 - acc: 0.9145 - val_loss: 0.3018 - val_acc: 0.8906\n",
            "Epoch 28/30\n",
            "55000/55000 [==============================] - 5s 94us/sample - loss: 0.2344 - acc: 0.9164 - val_loss: 0.2936 - val_acc: 0.8938\n",
            "Epoch 29/30\n",
            "55000/55000 [==============================] - 5s 91us/sample - loss: 0.2305 - acc: 0.9169 - val_loss: 0.3235 - val_acc: 0.8778\n",
            "Epoch 30/30\n",
            "55000/55000 [==============================] - 5s 93us/sample - loss: 0.2265 - acc: 0.9190 - val_loss: 0.3022 - val_acc: 0.8928\n"
          ],
          "name": "stdout"
        }
      ]
    },
    {
      "cell_type": "code",
      "metadata": {
        "id": "xpOY-14VBo7o",
        "colab_type": "code",
        "colab": {
          "base_uri": "https://localhost:8080/",
          "height": 432
        },
        "outputId": "0f2752c3-69a0-452e-eecc-455938904d3a"
      },
      "source": [
        "import pandas as pd\n",
        "\n",
        "pd.DataFrame(history.history).plot(figsize=(12, 7));\n",
        "plt.grid(True)"
      ],
      "execution_count": 46,
      "outputs": [
        {
          "output_type": "display_data",
          "data": {
            "image/png": "[encoded data removed]",
            "text/plain": [
              "<Figure size 864x504 with 1 Axes>"
            ]
          },
          "metadata": {
            "tags": []
          }
        }
      ]
    },
    {
      "cell_type": "code",
      "metadata": {
        "id": "hw4RiQz-EQWE",
        "colab_type": "code",
        "colab": {
          "base_uri": "https://localhost:8080/",
          "height": 50
        },
        "outputId": "ec3e0ae7-e012-4f24-aa5c-4e49c1b9349e"
      },
      "source": [
        "# Evaluate Model\n",
        "model.evaluate(x_test/255.0,  y_test)"
      ],
      "execution_count": 47,
      "outputs": [
        {
          "output_type": "stream",
          "text": [
            "10000/10000 [==============================] - 0s 42us/sample - loss: 0.3337 - acc: 0.8815\n"
          ],
          "name": "stdout"
        },
        {
          "output_type": "execute_result",
          "data": {
            "text/plain": [
              "[0.33373005471229555, 0.8815]"
            ]
          },
          "metadata": {
            "tags": []
          },
          "execution_count": 47
        }
      ]
    },
    {
      "cell_type": "code",
      "metadata": {
        "id": "v76A1H4uFNJ8",
        "colab_type": "code",
        "colab": {
          "base_uri": "https://localhost:8080/",
          "height": 151
        },
        "outputId": "558ff50d-906c-414a-92b6-95c582573ce6"
      },
      "source": [
        "# Make prediction\n",
        "x_new = x_test[:3]/255.0\n",
        "y_prob = model.predict(x_new)\n",
        "print(y_test[:3])\n",
        "print(y_prob)\n",
        "print(model.predict_classes(x_new))"
      ],
      "execution_count": 50,
      "outputs": [
        {
          "output_type": "stream",
          "text": [
            "[9 2 1]\n",
            "[[8.0868585e-07 3.3271940e-07 6.7718829e-06 2.5879108e-06 8.7238759e-06\n",
            "  3.4423801e-03 3.0055568e-05 3.6707863e-03 2.4340495e-04 9.9259418e-01]\n",
            " [1.0297739e-04 8.1339619e-09 9.9947232e-01 1.0630745e-08 3.7149136e-04\n",
            "  7.5326958e-12 5.3255997e-05 1.2187075e-11 3.4793366e-08 1.0340945e-11]\n",
            " [3.1008040e-05 9.9996722e-01 3.9892456e-07 1.2388167e-06 1.4346389e-07\n",
            "  1.6349555e-10 1.6641570e-08 1.4891600e-11 5.8649263e-10 3.9629875e-12]]\n",
            "[9 2 1]\n"
          ],
          "name": "stdout"
        }
      ]
    },
    {
      "cell_type": "code",
      "metadata": {
        "id": "5YS5-XIOGjp1",
        "colab_type": "code",
        "colab": {
          "base_uri": "https://localhost:8080/",
          "height": 34
        },
        "outputId": "c4c220d8-cd84-42d0-9d8e-f0369bdb4644"
      },
      "source": [
        "np.array(class_names)[model.predict_classes(x_new)]"
      ],
      "execution_count": 54,
      "outputs": [
        {
          "output_type": "execute_result",
          "data": {
            "text/plain": [
              "array(['Ankle boot', 'Pullover', 'Trouser'], dtype='<U11')"
            ]
          },
          "metadata": {
            "tags": []
          },
          "execution_count": 54
        }
      ]
    },
    {
      "cell_type": "code",
      "metadata": {
        "id": "yambpqqdJ-RU",
        "colab_type": "code",
        "colab": {}
      },
      "source": [
        "import EB"
      ],
      "execution_count": 0,
      "outputs": []
    }
  ]
}